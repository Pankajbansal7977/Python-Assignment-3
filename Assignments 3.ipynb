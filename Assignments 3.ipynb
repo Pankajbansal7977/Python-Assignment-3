{
 "cells": [
  {
   "cell_type": "markdown",
   "id": "4d5446d9",
   "metadata": {},
   "source": [
    "# Solutions "
   ]
  },
  {
   "cell_type": "code",
   "execution_count": 1,
   "id": "1f369a5c",
   "metadata": {},
   "outputs": [],
   "source": [
    "# Q1. Why are functions advantageous to have in your programs?"
   ]
  },
  {
   "cell_type": "code",
   "execution_count": 2,
   "id": "67965091",
   "metadata": {},
   "outputs": [],
   "source": [
    "# Ans. Advantages of having functions:\n",
    "# Functions reduce the need for duplicate code. This makes programs shorter, easier to read, and easier to update."
   ]
  },
  {
   "cell_type": "code",
   "execution_count": 3,
   "id": "be570f52",
   "metadata": {},
   "outputs": [],
   "source": [
    "def sum(a,b):\n",
    "    c = a+b\n",
    "    print(c)\n",
    "sum(15,25)    \n"
   ]
  },
  {
   "cell_type": "code",
   "execution_count": 4,
   "id": "c3f2d7a3",
   "metadata": {},
   "outputs": [],
   "source": [
    "# Q2. When does the code in a function run:when it's specified or when it's called?"
   ]
  },
  {
   "cell_type": "code",
   "execution_count": 5,
   "id": "827b1eda",
   "metadata": {},
   "outputs": [],
   "source": [
    " #Ans . Code in the function runs when the function is called"
   ]
  },
  {
   "cell_type": "code",
   "execution_count": 6,
   "id": "3a44aff2",
   "metadata": {},
   "outputs": [],
   "source": [
    "# Q3. What statement creates a function?"
   ]
  },
  {
   "cell_type": "code",
   "execution_count": 7,
   "id": "8a176760",
   "metadata": {},
   "outputs": [],
   "source": [
    "#Ans. The def statement defines (i.e. creates) a function.\n",
    "\n",
    "def my_func():\n",
    "pass    # its mean we complete this after sometime"
   ]
  },
  {
   "cell_type": "code",
   "execution_count": 8,
   "id": "65e2117a",
   "metadata": {},
   "outputs": [],
   "source": [
    "# Q4. What is the difference between a function and a function call?"
   ]
  },
  {
   "cell_type": "code",
   "execution_count": 9,
   "id": "a98f3443",
   "metadata": {},
   "outputs": [],
   "source": [
    "def my_func(): \n",
    "    pass \n",
    "my_func() #calling  this tym function"
   ]
  },
  {
   "cell_type": "code",
   "execution_count": 10,
   "id": "460a9bba",
   "metadata": {},
   "outputs": [],
   "source": [
    "# Q5. How many global scopes are there in a Python program? How many local scopes?"
   ]
  },
  {
   "cell_type": "code",
   "execution_count": 11,
   "id": "bbe813d3",
   "metadata": {},
   "outputs": [],
   "source": [
    "# Ans .There's only one global Python scope per program execution. This scope remains in existence until the program terminates , and a local scope is created whenever a function is called"
   ]
  },
  {
   "cell_type": "code",
   "execution_count": 12,
   "id": "e3b5f2d0",
   "metadata": {},
   "outputs": [],
   "source": [
    "# Q6. What happens to variables in a local scope when the function call returns?"
   ]
  },
  {
   "cell_type": "code",
   "execution_count": 13,
   "id": "e5b68f63",
   "metadata": {},
   "outputs": [],
   "source": [
    "# Ans. When a function returns, the local scope is destroyed."
   ]
  },
  {
   "cell_type": "code",
   "execution_count": 14,
   "id": "05c78ddf",
   "metadata": {},
   "outputs": [],
   "source": [
    "# Q7. What is the concept of a return value? Is it possible to have a return value in an expression?"
   ]
  },
  {
   "cell_type": "code",
   "execution_count": 15,
   "id": "591f5ffa",
   "metadata": {},
   "outputs": [],
   "source": [
    "# Ans. A return value is the value that a function call evaluates to. Like any value, a return value can be used as part of an expression."
   ]
  },
  {
   "cell_type": "code",
   "execution_count": 16,
   "id": "6f548707",
   "metadata": {},
   "outputs": [],
   "source": [
    "''' Q8. If a function does not have a return statement, what is the return value of a call to that function?\n",
    "\n",
    "Ans. If the funtion does not have a return statement it will not return anything.\n",
    "\n",
    "Q9. How do you make a function variable refer to the global variable?\n",
    "\n",
    "Ans. To make function variable as a global variable you can use the global keyword to declare which variables are global.\n",
    "\n",
    "Q10. What is the data type of None?\n",
    "\n",
    "Ans . The data type of None is NoneType.\n",
    "\n",
    "Q11. What does the sentence import areallyourpetsnamederic do?\n",
    "\n",
    "Ans .That import statement imports a module named areallyourpetsnamederic. (But a module of this name doesnt exists in Python)'''"
   ]
  },
  {
   "cell_type": "code",
   "execution_count": 17,
   "id": "44dc5e5c",
   "metadata": {},
   "outputs": [],
   "source": [
    "# Q12. If you had a bacon() feature in a spam module, what would you call it after importing spam?\n",
    "# Ans .import spam\n",
    "# spam.bacon()"
   ]
  },
  {
   "cell_type": "code",
   "execution_count": 18,
   "id": "535935e2",
   "metadata": {},
   "outputs": [],
   "source": [
    "'''\n",
    "Q13. What can you do to save a programme from crashing if it encounters an error?\n",
    "\n",
    "Ans. We can use try except clause to save a program from crashing.\n",
    "\n",
    "Q14. What is the purpose of the try clause? What is the purpose of the except clause?\n",
    "\n",
    "Ans. Try and Except clause is used to handle the errors within our code . The try block is used to check some code for errors i.e the code inside the try block will execute when there is no error in the program. Whereas the code inside the except block will execute whenever the program encounters some error in the try block.\n",
    "\n",
    "Eg. try:\n",
    "# Code\n",
    "except:\n",
    "# Executed if error in the\n",
    "# try block\n",
    "'''"
   ]
  },
  {
   "cell_type": "code",
   "execution_count": null,
   "id": "aec973c2",
   "metadata": {},
   "outputs": [],
   "source": []
  }
 ],
 "metadata": {
  "kernelspec": {
   "display_name": "Python 3 (ipykernel)",
   "language": "python",
   "name": "python3"
  },
  "language_info": {
   "codemirror_mode": {
    "name": "ipython",
    "version": 3
   },
   "file_extension": ".py",
   "mimetype": "text/x-python",
   "name": "python",
   "nbconvert_exporter": "python",
   "pygments_lexer": "ipython3",
   "version": "3.10.11"
  }
 },
 "nbformat": 4,
 "nbformat_minor": 5
}
